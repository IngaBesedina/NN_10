{
  "nbformat": 4,
  "nbformat_minor": 0,
  "metadata": {
    "colab": {
      "provenance": []
    },
    "kernelspec": {
      "name": "python3",
      "display_name": "Python 3"
    },
    "language_info": {
      "name": "python"
    },
    "accelerator": "GPU"
  },
  "cells": [
    {
      "cell_type": "markdown",
      "metadata": {
        "id": "u81YRkk6Y8su"
      },
      "source": [
        "1. На основе учебного ноутбука проведите финальную подготовку данных. Иизмените количество сегментирующих классов с `16` на `5`.\n",
        "\n",
        "2. Проведите суммарно не менее `10` экспериментов и визуализируйте их результаты (включая точность обучения сетей на одинаковом количестве эпох, например, на `7`):\n",
        "\n",
        "  - изменив `filters` в сверточных слоях\n",
        "  - изменив `kernel_size` в сверточных слоях\n",
        "  - изменив активационную функцию в скрытых слоях с `relu` на `linear` или/и `selu`, `elu`.\n",
        "\n",
        "\n",
        "**Важно!**\n",
        "\n",
        "Многие эксперименты могут приводить к переполнению ОЗУ в вашем ноутбуке и сброса кода обучения.\n",
        "\n",
        "![image.png](data:image/png;base64,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)\n",
        "\n",
        "\n",
        "\n",
        "Для предотвращения переполнения ОЗУ может помочь библиотека `gc`. Вставьте строчку `gc.collect()` в цикл ваших экспериментов для сбора и удаления временных данных (кеш)."
      ]
    },
    {
      "cell_type": "markdown",
      "metadata": {
        "id": "OzYOKrjeRpzw"
      },
      "source": [
        "Перед выполнением задания, пожалуйста, запустите ячейку `Подготовка` ниже:"
      ]
    },
    {
      "cell_type": "markdown",
      "metadata": {
        "id": "oFyI8tjLV1ba"
      },
      "source": [
        "## Подготовка"
      ]
    },
    {
      "cell_type": "markdown",
      "metadata": {
        "id": "P3LPRx8H9v_c"
      },
      "source": [
        "### Импорт библиотек"
      ]
    },
    {
      "cell_type": "code",
      "metadata": {
        "id": "KymN8bdebLzJ"
      },
      "source": [
        " # Импортируем модели keras: Model\n",
        "from tensorflow.keras.models import Model\n",
        "\n",
        " # Импортируем стандартные слои keras\n",
        "from tensorflow.keras.layers import Input, Conv2DTranspose, concatenate, Activation\n",
        "from tensorflow.keras.layers import MaxPooling2D, Conv2D, BatchNormalization, UpSampling2D\n",
        "\n",
        "# Импортируем оптимизатор Adam\n",
        "from tensorflow.keras.optimizers import Adam\n",
        "\n",
        "# Импортируем модуль pyplot библиотеки matplotlib для построения графиков\n",
        "import matplotlib.pyplot as plt\n",
        "\n",
        "# Импортируем модуль image для работы с изображениями\n",
        "from tensorflow.keras.preprocessing import image\n",
        "\n",
        "# Импортируем библиотеку numpy\n",
        "import numpy as np\n",
        "\n",
        "# Импортируем методделения выборки\n",
        "from sklearn.model_selection import train_test_split\n",
        "\n",
        "# загрузка файлов по HTML ссылке\n",
        "import gdown\n",
        "\n",
        "# Для работы с файлами\n",
        "import os\n",
        "\n",
        "# Для генерации случайных чисел\n",
        "import random\n",
        "\n",
        "import time\n",
        "\n",
        "# импортируем модель Image для работы с изображениями\n",
        "from PIL import Image\n",
        "\n",
        "# очистка ОЗУ\n",
        "import gc"
      ],
      "execution_count": null,
      "outputs": []
    },
    {
      "cell_type": "markdown",
      "metadata": {
        "id": "bVjxntar-a5H"
      },
      "source": [
        "### Загрузка датасета\n",
        "\n",
        "грузим и распаковываем архив картинок"
      ]
    },
    {
      "cell_type": "code",
      "metadata": {
        "id": "xP4-NkAt96gv",
        "colab": {
          "base_uri": "https://localhost:8080/"
        },
        "outputId": "16a43153-fbf2-47f0-c540-b0c74e6d5655"
      },
      "source": [
        "# Загрузка датасета из облака\n",
        "\n",
        "gdown.download('https://storage.yandexcloud.net/aiueducation/Content/base/l14/construction_256x192.zip', None, quiet=False)\n",
        "#gdown.download('https://storage.yandexcloud.net/aiueducation/Content/base/l14/construction_512x384.zip', None, quiet=False)\n",
        "\n",
        "!unzip -q 'construction_256x192.zip' # распоковываем архив"
      ],
      "execution_count": null,
      "outputs": [
        {
          "output_type": "stream",
          "name": "stderr",
          "text": [
            "Downloading...\n",
            "From: https://storage.yandexcloud.net/aiueducation/Content/base/l14/construction_256x192.zip\n",
            "To: /content/construction_256x192.zip\n",
            "100%|██████████| 214M/214M [00:11<00:00, 19.2MB/s]\n"
          ]
        }
      ]
    },
    {
      "cell_type": "code",
      "metadata": {
        "id": "CbNtynGfV27x"
      },
      "source": [
        "# Глобальные параметры\n",
        "\n",
        "IMG_WIDTH = 192               # Ширина картинки\n",
        "IMG_HEIGHT = 256              # Высота картинки\n",
        "NUM_CLASSES = 16              # Задаем количество классов на изображении\n",
        "TRAIN_DIRECTORY = 'train'     # Название папки с файлами обучающей выборки\n",
        "VAL_DIRECTORY = 'val'         # Название папки с файлами проверочной выборки"
      ],
      "execution_count": null,
      "outputs": []
    },
    {
      "cell_type": "markdown",
      "metadata": {
        "id": "vt2yMYbdrTVP"
      },
      "source": [
        "Загрузим оригинальные изображения (код из лекции):"
      ]
    },
    {
      "cell_type": "code",
      "metadata": {
        "colab": {
          "base_uri": "https://localhost:8080/"
        },
        "id": "MRDvv0-DQHwT",
        "outputId": "39502039-5591-45e6-f87f-0bc3c8a875c5"
      },
      "source": [
        "train_images = [] # Создаем пустой список для хранений оригинальных изображений обучающей выборки\n",
        "val_images = [] # Создаем пустой список для хранений оригинальных изображений проверочной выборки\n",
        "\n",
        "cur_time = time.time()  # Засекаем текущее время\n",
        "\n",
        "# Проходим по всем файлам в каталоге по указанному пути\n",
        "for filename in sorted(os.listdir(TRAIN_DIRECTORY+'/original')):\n",
        "    # Читаем очередную картинку и добавляем ее в список изображений с указанным target_size\n",
        "    train_images.append(image.load_img(os.path.join(TRAIN_DIRECTORY+'/original',filename),\n",
        "                                       target_size=(IMG_WIDTH, IMG_HEIGHT)))\n",
        "\n",
        "# Отображаем время загрузки картинок обучающей выборки\n",
        "print ('Обучающая выборка загружена. Время загрузки: ', round(time.time() - cur_time, 2), 'c', sep='')\n",
        "\n",
        "# Отображаем количество элементов в обучающей выборке\n",
        "print ('Количество изображений: ', len(train_images))\n",
        "\n",
        "cur_time = time.time() # Засекаем текущее время\n",
        "\n",
        "# Проходим по всем файлам в каталоге по указанному пути\n",
        "for filename in sorted(os.listdir(VAL_DIRECTORY+'/original')):\n",
        "    # Читаем очередную картинку и добавляем ее в список изображений с указанным target_size\n",
        "    val_images.append(image.load_img(os.path.join(VAL_DIRECTORY+'/original',filename),\n",
        "                                     target_size=(IMG_WIDTH, IMG_HEIGHT)))\n",
        "\n",
        "# Отображаем время загрузки картинок проверочной выборки\n",
        "print ('Проверочная выборка загружена. Время загрузки: ', round(time.time() - cur_time, 2), 'c', sep='')\n",
        "\n",
        "# Отображаем количество элементов в проверочной выборке\n",
        "print ('Количество изображений: ', len(val_images))"
      ],
      "execution_count": null,
      "outputs": [
        {
          "output_type": "stream",
          "name": "stdout",
          "text": [
            "Обучающая выборка загружена. Время загрузки: 0.36c\n",
            "Количество изображений:  1900\n",
            "Проверочная выборка загружена. Время загрузки: 0.02c\n",
            "Количество изображений:  100\n"
          ]
        }
      ]
    },
    {
      "cell_type": "markdown",
      "metadata": {
        "id": "ICqodxfPra3k"
      },
      "source": [
        "Загрузим сегментированные изображения (код из лекции):"
      ]
    },
    {
      "cell_type": "code",
      "metadata": {
        "colab": {
          "base_uri": "https://localhost:8080/"
        },
        "id": "tyA-q3d5YOL5",
        "outputId": "07f7f7b2-dfe7-49b6-d48f-55087b15b04a"
      },
      "source": [
        "train_segments = [] # Создаем пустой список для хранений оригинальных изображений обучающей выборки\n",
        "val_segments = [] # Создаем пустой список для хранений оригинальных изображений проверочной выборки\n",
        "\n",
        "cur_time = time.time() # Засекаем текущее время\n",
        "\n",
        "for filename in sorted(os.listdir(TRAIN_DIRECTORY+'/segment')): # Проходим по всем файлам в каталоге по указанному пути\n",
        "    # Читаем очередную картинку и добавляем ее в список изображений с указанным target_size\n",
        "    train_segments.append(image.load_img(os.path.join(TRAIN_DIRECTORY+'/segment',filename),\n",
        "                                       target_size=(IMG_WIDTH, IMG_HEIGHT)))\n",
        "\n",
        "# Отображаем время загрузки картинок обучающей выборки\n",
        "print ('Обучающая выборка загружена. Время загрузки: ', round(time.time() - cur_time, 2), 'c', sep='')\n",
        "\n",
        "# Отображаем количество элементов в обучающем наборе сегментированных изображений\n",
        "print ('Количество изображений: ', len(train_segments))\n",
        "\n",
        "cur_time = time.time() # Засекаем текущее время\n",
        "\n",
        "for filename in sorted(os.listdir(VAL_DIRECTORY+'/segment')): # Проходим по всем файлам в каталоге по указанному пути\n",
        "    # Читаем очередную картинку и добавляем ее в список изображений с указанным target_size\n",
        "    val_segments.append(image.load_img(os.path.join(VAL_DIRECTORY+'/segment',filename),\n",
        "                                     target_size=(IMG_WIDTH, IMG_HEIGHT)))\n",
        "\n",
        "# Отображаем время загрузки картинок проверочной выборки\n",
        "print ('Проверочная выборка загружена. Время загрузки: ', round(time.time() - cur_time, 2), 'c', sep='')\n",
        "\n",
        "# Отображаем количество элементов в проверочном наборе сегментированных изображений\n",
        "print ('Количество изображений: ', len(val_segments))"
      ],
      "execution_count": null,
      "outputs": [
        {
          "output_type": "stream",
          "name": "stdout",
          "text": [
            "Обучающая выборка загружена. Время загрузки: 0.35c\n",
            "Количество изображений:  1900\n",
            "Проверочная выборка загружена. Время загрузки: 0.02c\n",
            "Количество изображений:  100\n"
          ]
        }
      ]
    },
    {
      "cell_type": "markdown",
      "metadata": {
        "id": "NQdPRE5OYLE-"
      },
      "source": [
        "## Решение\n"
      ]
    },
    {
      "cell_type": "code",
      "metadata": {
        "id": "-3yC0JWQRF-g"
      },
      "source": [
        "# Ваше решение"
      ],
      "execution_count": null,
      "outputs": []
    }
  ]
}